{
 "cells": [
  {
   "cell_type": "code",
   "execution_count": 0,
   "metadata": {
    "colab": {},
    "colab_type": "code",
    "id": "ddw4yjudBbmo"
   },
   "outputs": [],
   "source": [
    "import pandas as pd\n",
    "df = pd.read_csv(\n",
    "    \"data.csv\",\n",
    "    sep = ',',\n",
    "    thousands = None,\n",
    "    decimal = '.',\n",
    "    encoding='latin-1')"
   ]
  },
  {
   "cell_type": "code",
   "execution_count": 27,
   "metadata": {
    "colab": {
     "base_uri": "https://localhost:8080/",
     "height": 198
    },
    "colab_type": "code",
    "id": "FNb7S_cqCqrg",
    "outputId": "b5d9daa6-fef1-4838-acdf-9df133a914f5"
   },
   "outputs": [
    {
     "data": {
      "text/html": [
       "<div>\n",
       "<style scoped>\n",
       "    .dataframe tbody tr th:only-of-type {\n",
       "        vertical-align: middle;\n",
       "    }\n",
       "\n",
       "    .dataframe tbody tr th {\n",
       "        vertical-align: top;\n",
       "    }\n",
       "\n",
       "    .dataframe thead th {\n",
       "        text-align: right;\n",
       "    }\n",
       "</style>\n",
       "<table border=\"1\" class=\"dataframe\">\n",
       "  <thead>\n",
       "    <tr style=\"text-align: right;\">\n",
       "      <th></th>\n",
       "      <th>b</th>\n",
       "      <th>6</th>\n",
       "    </tr>\n",
       "  </thead>\n",
       "  <tbody>\n",
       "    <tr>\n",
       "      <th>0</th>\n",
       "      <td>a</td>\n",
       "      <td>3</td>\n",
       "    </tr>\n",
       "    <tr>\n",
       "      <th>1</th>\n",
       "      <td>d</td>\n",
       "      <td>1</td>\n",
       "    </tr>\n",
       "    <tr>\n",
       "      <th>2</th>\n",
       "      <td>c</td>\n",
       "      <td>2</td>\n",
       "    </tr>\n",
       "    <tr>\n",
       "      <th>3</th>\n",
       "      <td>e</td>\n",
       "      <td>4</td>\n",
       "    </tr>\n",
       "    <tr>\n",
       "      <th>4</th>\n",
       "      <td>f</td>\n",
       "      <td>5</td>\n",
       "    </tr>\n",
       "  </tbody>\n",
       "</table>\n",
       "</div>"
      ],
      "text/plain": [
       "   b  6\n",
       "0  a  3\n",
       "1  d  1\n",
       "2  c  2\n",
       "3  e  4\n",
       "4  f  5"
      ]
     },
     "execution_count": 27,
     "metadata": {
      "tags": []
     },
     "output_type": "execute_result"
    }
   ],
   "source": [
    "df"
   ]
  },
  {
   "cell_type": "code",
   "execution_count": 23,
   "metadata": {
    "colab": {
     "base_uri": "https://localhost:8080/",
     "height": 35
    },
    "colab_type": "code",
    "id": "mYLzDyBiEEBr",
    "outputId": "de156b11-7a26-41e2-eb10-b6b0114ae04e"
   },
   "outputs": [
    {
     "name": "stdout",
     "output_type": "stream",
     "text": [
      "Overwriting mapper_q3.py\n"
     ]
    }
   ],
   "source": [
    "  %%writefile mapper_q3.py\n",
    "#! /usr/bin/env python\n",
    "  \n",
    "import sys\n",
    "#\n",
    "# >>> Escriba el codigo del mapper a partir de este punto <<<\n",
    "#\n",
    "\n",
    "if __name__ == \"__main__\":\n",
    "\n",
    "    for line in sys.stdin:\n",
    "            clave = line.split(',')[0]\n",
    "            valor = int(line.split(',')[1])\n",
    "            sys.stdout.write(\"{},{},{}\\n\".format(valor,clave,valor))"
   ]
  },
  {
   "cell_type": "code",
   "execution_count": 24,
   "metadata": {
    "colab": {
     "base_uri": "https://localhost:8080/",
     "height": 126
    },
    "colab_type": "code",
    "id": "V9DULCNeEOjz",
    "outputId": "dae7cf8a-5ca4-41e1-85cd-32ba1cb6558e"
   },
   "outputs": [
    {
     "name": "stdout",
     "output_type": "stream",
     "text": [
      "6,b,6\n",
      "3,a,3\n",
      "1,d,1\n",
      "2,c,2\n",
      "4,e,4\n",
      "5,f,5\n"
     ]
    }
   ],
   "source": [
    "!chmod +x mapper_q3.py\n",
    "!cat ./data.csv | ./mapper_q3.py | head"
   ]
  },
  {
   "cell_type": "code",
   "execution_count": 25,
   "metadata": {
    "colab": {
     "base_uri": "https://localhost:8080/",
     "height": 35
    },
    "colab_type": "code",
    "id": "snunLNl7FQjU",
    "outputId": "f2a1bbac-aa0b-4523-933a-6bd9fb1c4ad2"
   },
   "outputs": [
    {
     "name": "stdout",
     "output_type": "stream",
     "text": [
      "Overwriting reducer_q03.py\n"
     ]
    }
   ],
   "source": [
    "%%writefile reducer_q03.py\n",
    "#!/usr/bin/env python\n",
    "import sys\n",
    "#\n",
    "# >>> Escriba el codigo del reducer a partir de este punto <<<\n",
    "#\n",
    "\n",
    "if __name__ == '__main__':\n",
    "\n",
    "    for line in sys.stdin:\n",
    "        num, key, val = line.split(\",\")\n",
    "        val=int(val)\n",
    "\n",
    "        sys.stdout.write(\"{},{}\\n\".format(key, val))"
   ]
  },
  {
   "cell_type": "code",
   "execution_count": 26,
   "metadata": {
    "colab": {
     "base_uri": "https://localhost:8080/",
     "height": 126
    },
    "colab_type": "code",
    "id": "sgDIZf5oGP7y",
    "outputId": "749554aa-e7f3-4561-8353-3a6bd2a93057"
   },
   "outputs": [
    {
     "name": "stdout",
     "output_type": "stream",
     "text": [
      "d,1\n",
      "c,2\n",
      "a,3\n",
      "e,4\n",
      "f,5\n",
      "b,6\n"
     ]
    }
   ],
   "source": [
    "!chmod +x reducer_q03.py\n",
    "!cat ./data.csv | ./mapper_q3.py | sort | ./reducer_q03.py "
   ]
  }
 ],
 "metadata": {
  "colab": {
   "name": "Untitled3.ipynb",
   "provenance": []
  },
  "kernelspec": {
   "display_name": "Python 3",
   "language": "python",
   "name": "python3"
  },
  "language_info": {
   "codemirror_mode": {
    "name": "ipython",
    "version": 3
   },
   "file_extension": ".py",
   "mimetype": "text/x-python",
   "name": "python",
   "nbconvert_exporter": "python",
   "pygments_lexer": "ipython3",
   "version": "3.7.1"
  }
 },
 "nbformat": 4,
 "nbformat_minor": 1
}

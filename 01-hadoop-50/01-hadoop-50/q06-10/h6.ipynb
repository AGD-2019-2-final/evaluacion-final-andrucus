{
 "cells": [
  {
   "cell_type": "code",
   "execution_count": 0,
   "metadata": {
    "colab": {},
    "colab_type": "code",
    "id": "Vhbwv0GdiQrD"
   },
   "outputs": [],
   "source": [
    "import pandas as pd\n",
    "df = pd.read_csv(\n",
    "    \"data.csv\",\n",
    "    sep = '\\t',\n",
    "    thousands = None,\n",
    "    decimal = '.',\n",
    "    encoding='latin-1')\n"
   ]
  },
  {
   "cell_type": "code",
   "execution_count": 42,
   "metadata": {
    "colab": {
     "base_uri": "https://localhost:8080/",
     "height": 197
    },
    "colab_type": "code",
    "id": "cfUUl3w_TGS5",
    "outputId": "bceec07a-3645-45d2-b3b6-8ad9f3fd324e"
   },
   "outputs": [
    {
     "data": {
      "text/html": [
       "<div>\n",
       "<style scoped>\n",
       "    .dataframe tbody tr th:only-of-type {\n",
       "        vertical-align: middle;\n",
       "    }\n",
       "\n",
       "    .dataframe tbody tr th {\n",
       "        vertical-align: top;\n",
       "    }\n",
       "\n",
       "    .dataframe thead th {\n",
       "        text-align: right;\n",
       "    }\n",
       "</style>\n",
       "<table border=\"1\" class=\"dataframe\">\n",
       "  <thead>\n",
       "    <tr style=\"text-align: right;\">\n",
       "      <th></th>\n",
       "      <th>B   1999-08-28   14.1</th>\n",
       "    </tr>\n",
       "  </thead>\n",
       "  <tbody>\n",
       "    <tr>\n",
       "      <th>0</th>\n",
       "      <td>E   1999-12-06   12.2</td>\n",
       "    </tr>\n",
       "    <tr>\n",
       "      <th>1</th>\n",
       "      <td>E   1993-07-21   17.0</td>\n",
       "    </tr>\n",
       "    <tr>\n",
       "      <th>2</th>\n",
       "      <td>C   1991-02-12   13.8</td>\n",
       "    </tr>\n",
       "    <tr>\n",
       "      <th>3</th>\n",
       "      <td>E   1995-04-25   16.9</td>\n",
       "    </tr>\n",
       "    <tr>\n",
       "      <th>4</th>\n",
       "      <td>A   1992-08-22   14.8</td>\n",
       "    </tr>\n",
       "  </tbody>\n",
       "</table>\n",
       "</div>"
      ],
      "text/plain": [
       "   B   1999-08-28   14.1\n",
       "0  E   1999-12-06   12.2\n",
       "1  E   1993-07-21   17.0\n",
       "2  C   1991-02-12   13.8\n",
       "3  E   1995-04-25   16.9\n",
       "4  A   1992-08-22   14.8"
      ]
     },
     "execution_count": 42,
     "metadata": {
      "tags": []
     },
     "output_type": "execute_result"
    }
   ],
   "source": [
    "df.head()"
   ]
  },
  {
   "cell_type": "code",
   "execution_count": 43,
   "metadata": {
    "colab": {
     "base_uri": "https://localhost:8080/",
     "height": 34
    },
    "colab_type": "code",
    "id": "RELmp564-v4_",
    "outputId": "187825c3-82e1-408a-a705-f3c0af87e458"
   },
   "outputs": [
    {
     "name": "stdout",
     "output_type": "stream",
     "text": [
      "Overwriting mapper_h06.py\n"
     ]
    }
   ],
   "source": [
    "%%writefile mapper_h06.py\n",
    "#! /usr/bin/env python\n",
    "import sys\n",
    "if __name__ == \"__main__\":\n",
    "\n",
    "    \n",
    "    for line in sys.stdin:\n",
    "        letra=line.split(' ')[0]\n",
    "        cantidad=line.split(' ')[6]\n",
    "        cantidad=float(cantidad)\n",
    "        sys.stdout.write(\"{}\\t{}\\n\".format(letra,cantidad))"
   ]
  },
  {
   "cell_type": "code",
   "execution_count": 44,
   "metadata": {
    "colab": {
     "base_uri": "https://localhost:8080/",
     "height": 194
    },
    "colab_type": "code",
    "id": "f8vgAot7_We4",
    "outputId": "5b54c714-c955-4b13-966b-253db2b280e2"
   },
   "outputs": [
    {
     "name": "stdout",
     "output_type": "stream",
     "text": [
      "B\t14.1\n",
      "E\t12.2\n",
      "E\t17.0\n",
      "C\t13.8\n",
      "E\t16.9\n",
      "A\t14.8\n",
      "B\t12.1\n",
      "E\t13.2\n",
      "E\t11.3\n",
      "E\t16.4\n"
     ]
    }
   ],
   "source": [
    "!chmod +x mapper_h06.py\n",
    "!cat ./data.csv | ./mapper_h06.py | head"
   ]
  },
  {
   "cell_type": "code",
   "execution_count": 45,
   "metadata": {
    "colab": {
     "base_uri": "https://localhost:8080/",
     "height": 34
    },
    "colab_type": "code",
    "id": "9HSemSDgACa4",
    "outputId": "b70f3a4a-001c-4177-87d4-f7c5c7e88cf3"
   },
   "outputs": [
    {
     "name": "stdout",
     "output_type": "stream",
     "text": [
      "Overwriting reducer_h6.py\n"
     ]
    }
   ],
   "source": [
    "%%writefile reducer_h6.py\n",
    "#!/usr/bin/env python\n",
    "\n",
    "import sys\n",
    "\n",
    "\n",
    "if __name__ == '__main__':\n",
    "\n",
    "    curkey = None\n",
    "    total = None\n",
    "    total_min = None\n",
    "\n",
    "    \n",
    "    for line in sys.stdin:\n",
    "\n",
    "        key, val = line.split(\"\\t\")\n",
    "        val = float(val)\n",
    "        \n",
    "        if total is None:\n",
    "          total = val\n",
    "\n",
    "        if total_min is None:\n",
    "          total_min = val\n",
    "\n",
    "        if key == curkey:\n",
    "            \n",
    "            total = max(total,val)\n",
    "            total_min = min(total_min, val)\n",
    "        else:\n",
    "           \n",
    "            if curkey is not None:\n",
    "                \n",
    "                sys.stdout.write(\"{}\\t{}\\t{}\\n\".format(curkey, total, total_min))\n",
    "\n",
    "            curkey = key\n",
    "            total = val\n",
    "            total_min = val\n",
    "     \n",
    "    sys.stdout.write(\"{}\\t{}\\t{}\\n\".format(curkey, total, total_min))"
   ]
  },
  {
   "cell_type": "code",
   "execution_count": 46,
   "metadata": {
    "colab": {
     "base_uri": "https://localhost:8080/",
     "height": 105
    },
    "colab_type": "code",
    "id": "_KcCy-k7Pfsr",
    "outputId": "6bf57110-5854-4a48-dafe-30889b99d3db"
   },
   "outputs": [
    {
     "name": "stdout",
     "output_type": "stream",
     "text": [
      "A\t18.4\t10.7\n",
      "B\t17.0\t10.7\n",
      "C\t15.3\t10.2\n",
      "D\t15.1\t15.1\n",
      "E\t18.8\t10.5\n"
     ]
    }
   ],
   "source": [
    "!chmod +x reducer_h6.py\n",
    "!cat ./data.csv | ./mapper_h06.py | sort | ./reducer_h6.py "
   ]
  }
 ],
 "metadata": {
  "colab": {
   "collapsed_sections": [],
   "name": "Untitled4.ipynb",
   "provenance": []
  },
  "kernelspec": {
   "display_name": "Python 3",
   "language": "python",
   "name": "python3"
  },
  "language_info": {
   "codemirror_mode": {
    "name": "ipython",
    "version": 3
   },
   "file_extension": ".py",
   "mimetype": "text/x-python",
   "name": "python",
   "nbconvert_exporter": "python",
   "pygments_lexer": "ipython3",
   "version": "3.7.1"
  }
 },
 "nbformat": 4,
 "nbformat_minor": 1
}

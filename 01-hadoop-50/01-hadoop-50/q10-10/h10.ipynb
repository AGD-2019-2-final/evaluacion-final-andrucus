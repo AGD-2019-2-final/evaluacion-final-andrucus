{
  "nbformat": 4,
  "nbformat_minor": 0,
  "metadata": {
    "colab": {
      "name": "Untitled4.ipynb",
      "provenance": [],
      "collapsed_sections": [],
      "toc_visible": true
    },
    "kernelspec": {
      "name": "python3",
      "display_name": "Python 3"
    }
  },
  "cells": [
    {
      "cell_type": "code",
      "metadata": {
        "id": "Vhbwv0GdiQrD",
        "colab_type": "code",
        "colab": {}
      },
      "source": [
        "import pandas as pd\n",
        "df = pd.read_csv(\n",
        "    \"data.csv\",\n",
        "    sep = '\\t',\n",
        "    thousands = None,\n",
        "    decimal = '.',\n",
        "    encoding='latin-1')\n"
      ],
      "execution_count": 0,
      "outputs": []
    },
    {
      "cell_type": "code",
      "metadata": {
        "id": "cfUUl3w_TGS5",
        "colab_type": "code",
        "outputId": "a8f087f0-9223-429c-8c44-5ad127ac63a3",
        "colab": {
          "base_uri": "https://localhost:8080/",
          "height": 197
        }
      },
      "source": [
        "df.head()"
      ],
      "execution_count": 107,
      "outputs": [
        {
          "output_type": "execute_result",
          "data": {
            "text/html": [
              "<div>\n",
              "<style scoped>\n",
              "    .dataframe tbody tr th:only-of-type {\n",
              "        vertical-align: middle;\n",
              "    }\n",
              "\n",
              "    .dataframe tbody tr th {\n",
              "        vertical-align: top;\n",
              "    }\n",
              "\n",
              "    .dataframe thead th {\n",
              "        text-align: right;\n",
              "    }\n",
              "</style>\n",
              "<table border=\"1\" class=\"dataframe\">\n",
              "  <thead>\n",
              "    <tr style=\"text-align: right;\">\n",
              "      <th></th>\n",
              "      <th>0</th>\n",
              "      <th>C,F,A,B,D,I,H</th>\n",
              "    </tr>\n",
              "  </thead>\n",
              "  <tbody>\n",
              "    <tr>\n",
              "      <th>0</th>\n",
              "      <td>1</td>\n",
              "      <td>A,H,C,I,F,D,B</td>\n",
              "    </tr>\n",
              "    <tr>\n",
              "      <th>1</th>\n",
              "      <td>2</td>\n",
              "      <td>B,H,I,F,G</td>\n",
              "    </tr>\n",
              "    <tr>\n",
              "      <th>2</th>\n",
              "      <td>3</td>\n",
              "      <td>C,B,D</td>\n",
              "    </tr>\n",
              "    <tr>\n",
              "      <th>3</th>\n",
              "      <td>4</td>\n",
              "      <td>D,C,I,G,H</td>\n",
              "    </tr>\n",
              "    <tr>\n",
              "      <th>4</th>\n",
              "      <td>5</td>\n",
              "      <td>B,D,C,H,A</td>\n",
              "    </tr>\n",
              "  </tbody>\n",
              "</table>\n",
              "</div>"
            ],
            "text/plain": [
              "   0  C,F,A,B,D,I,H\n",
              "0  1  A,H,C,I,F,D,B\n",
              "1  2      B,H,I,F,G\n",
              "2  3          C,B,D\n",
              "3  4      D,C,I,G,H\n",
              "4  5      B,D,C,H,A"
            ]
          },
          "metadata": {
            "tags": []
          },
          "execution_count": 107
        }
      ]
    },
    {
      "cell_type": "code",
      "metadata": {
        "id": "RELmp564-v4_",
        "colab_type": "code",
        "outputId": "33fbf908-a031-41ed-ef07-1656a03bc7c4",
        "colab": {
          "base_uri": "https://localhost:8080/",
          "height": 34
        }
      },
      "source": [
        "%%writefile mapper_h10.py\n",
        "#! /usr/bin/env python\n",
        "import sys\n",
        "#\n",
        "# >>> Escriba el codigo del mapper a partir de este punto <<<\n",
        "#\n",
        "if __name__ == \"__main__\":\n",
        "\n",
        "    for line in sys.stdin:\n",
        "\n",
        "\n",
        "        value = int(line.split(\"\t\")[0])\n",
        "        value = \"{:03.0f}\".format(value)\n",
        "        letters = (line.split(\"\t\")[1].rstrip(\"\\r\\n\")).split(\",\")\n",
        "        for letter in letters:\n",
        "            sys.stdout.write(\"{}\\t{}\\n\".format(letter,value))"
      ],
      "execution_count": 108,
      "outputs": [
        {
          "output_type": "stream",
          "text": [
            "Writing mapper_h10.py\n"
          ],
          "name": "stdout"
        }
      ]
    },
    {
      "cell_type": "code",
      "metadata": {
        "id": "f8vgAot7_We4",
        "colab_type": "code",
        "outputId": "138c47e5-bebf-403f-bc95-ce4ceba766dd",
        "colab": {
          "base_uri": "https://localhost:8080/",
          "height": 194
        }
      },
      "source": [
        "!chmod +x mapper_h10.py\n",
        "!cat ./data.csv | ./mapper_h10.py | head"
      ],
      "execution_count": 109,
      "outputs": [
        {
          "output_type": "stream",
          "text": [
            "C\t000\n",
            "F\t000\n",
            "A\t000\n",
            "B\t000\n",
            "D\t000\n",
            "I\t000\n",
            "H\t000\n",
            "A\t001\n",
            "H\t001\n",
            "C\t001\n"
          ],
          "name": "stdout"
        }
      ]
    },
    {
      "cell_type": "code",
      "metadata": {
        "id": "9HSemSDgACa4",
        "colab_type": "code",
        "outputId": "4fd98c61-3eb6-47c6-f8b5-a9151af5e544",
        "colab": {
          "base_uri": "https://localhost:8080/",
          "height": 34
        }
      },
      "source": [
        "%%writefile reducer_h10.py\n",
        "#!/usr/bin/env python\n",
        "import sys\n",
        "#\n",
        "# >>> Escriba el codigo del mapper a partir de este punto <<<\n",
        "#\n",
        "if __name__ == '__main__':\n",
        "\n",
        "    curkey = None\n",
        "    numbers = \"\"\n",
        "\n",
        "\n",
        "    for line in sys.stdin:\n",
        "        key, val = line.split(\"\\t\")\n",
        "        val = str(int(val))\n",
        "\n",
        "\n",
        "        if key == curkey:\n",
        "\n",
        "            numbers = numbers + \",\" + val\n",
        "        else:\n",
        "\n",
        "            if curkey is not None:\n",
        "\n",
        "                sys.stdout.write(\"{}\\t{}\\n\".format(curkey, numbers))\n",
        "\n",
        "            curkey = key\n",
        "            numbers = val\n",
        "    sys.stdout.write(\"{}\\t{}\\n\".format(curkey, numbers))"
      ],
      "execution_count": 110,
      "outputs": [
        {
          "output_type": "stream",
          "text": [
            "Writing reducer_h10.py\n"
          ],
          "name": "stdout"
        }
      ]
    },
    {
      "cell_type": "code",
      "metadata": {
        "id": "_KcCy-k7Pfsr",
        "colab_type": "code",
        "outputId": "54c2e8d7-4636-4b94-dbb7-7549c14d5fea",
        "colab": {
          "base_uri": "https://localhost:8080/",
          "height": 158
        }
      },
      "source": [
        "!chmod +x reducer_h10.py\n",
        "!cat ./data.csv | ./mapper_h10.py | sort | ./reducer_h10.py "
      ],
      "execution_count": 111,
      "outputs": [
        {
          "output_type": "stream",
          "text": [
            "A\t0,1,5,7,8,9,10,12,13,14,15,16,17,18,21,23,24,25,26,27,28,29\n",
            "B\t0,1,2,3,5,6,7,8,9,10,11,12,15,16,17,18,19,20,21,22,23,25,26,27,29\n",
            "C\t0,1,3,4,5,6,7,9,10,11,12,14,15,17,20,21,22,23,25,28,29\n",
            "D\t0,1,3,4,5,6,6,7,8,9,9,10,11,12,12,13,14,15,16,17,18,19,19,20,20,21,23,23,24,26,26,27,28,29,29\n",
            "F\t0,1,2,6,7,8,9,11,12,13,15,17,18,19,20,21,22,23,24,25,26,27,28,29\n",
            "G\t2,4,6,7,9,11,12,14,15,17,20,21,22,24,25,26,27,29\n",
            "H\t0,1,2,4,5,6,7,10,11,12,15,17,18,20,22,23,24,25,26,27,28,29\n",
            "I\t0,1,2,4,7,8,9,11,15,16,18,19,20,22,25,26,27\n"
          ],
          "name": "stdout"
        }
      ]
    },
    {
      "cell_type": "code",
      "metadata": {
        "id": "xjMm4MpVoKQW",
        "colab_type": "code",
        "colab": {}
      },
      "source": [
        ""
      ],
      "execution_count": 0,
      "outputs": []
    }
  ]
}
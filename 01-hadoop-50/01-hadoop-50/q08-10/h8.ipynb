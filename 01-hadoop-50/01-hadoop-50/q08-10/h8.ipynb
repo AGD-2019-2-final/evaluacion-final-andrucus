{
  "nbformat": 4,
  "nbformat_minor": 0,
  "metadata": {
    "colab": {
      "name": "Untitled4.ipynb",
      "provenance": [],
      "collapsed_sections": [],
      "toc_visible": true
    },
    "kernelspec": {
      "name": "python3",
      "display_name": "Python 3"
    }
  },
  "cells": [
    {
      "cell_type": "code",
      "metadata": {
        "id": "Vhbwv0GdiQrD",
        "colab_type": "code",
        "colab": {}
      },
      "source": [
        "import pandas as pd\n",
        "df = pd.read_csv(\n",
        "    \"data.csv\",\n",
        "    sep = '\\t',\n",
        "    thousands = None,\n",
        "    decimal = '.',\n",
        "    encoding='latin-1')\n"
      ],
      "execution_count": 0,
      "outputs": []
    },
    {
      "cell_type": "code",
      "metadata": {
        "id": "cfUUl3w_TGS5",
        "colab_type": "code",
        "outputId": "b854ee3c-6a77-402b-d85e-3b2a1360c8f9",
        "colab": {
          "base_uri": "https://localhost:8080/",
          "height": 197
        }
      },
      "source": [
        "df.head()"
      ],
      "execution_count": 46,
      "outputs": [
        {
          "output_type": "execute_result",
          "data": {
            "text/html": [
              "<div>\n",
              "<style scoped>\n",
              "    .dataframe tbody tr th:only-of-type {\n",
              "        vertical-align: middle;\n",
              "    }\n",
              "\n",
              "    .dataframe tbody tr th {\n",
              "        vertical-align: top;\n",
              "    }\n",
              "\n",
              "    .dataframe thead th {\n",
              "        text-align: right;\n",
              "    }\n",
              "</style>\n",
              "<table border=\"1\" class=\"dataframe\">\n",
              "  <thead>\n",
              "    <tr style=\"text-align: right;\">\n",
              "      <th></th>\n",
              "      <th>B   1999-08-28   14</th>\n",
              "    </tr>\n",
              "  </thead>\n",
              "  <tbody>\n",
              "    <tr>\n",
              "      <th>0</th>\n",
              "      <td>E   1999-12-06   12</td>\n",
              "    </tr>\n",
              "    <tr>\n",
              "      <th>1</th>\n",
              "      <td>E   1993-07-21   17</td>\n",
              "    </tr>\n",
              "    <tr>\n",
              "      <th>2</th>\n",
              "      <td>C   1991-02-12   13</td>\n",
              "    </tr>\n",
              "    <tr>\n",
              "      <th>3</th>\n",
              "      <td>E   1995-04-25   16</td>\n",
              "    </tr>\n",
              "    <tr>\n",
              "      <th>4</th>\n",
              "      <td>A   1992-08-22   14</td>\n",
              "    </tr>\n",
              "  </tbody>\n",
              "</table>\n",
              "</div>"
            ],
            "text/plain": [
              "   B   1999-08-28   14\n",
              "0  E   1999-12-06   12\n",
              "1  E   1993-07-21   17\n",
              "2  C   1991-02-12   13\n",
              "3  E   1995-04-25   16\n",
              "4  A   1992-08-22   14"
            ]
          },
          "metadata": {
            "tags": []
          },
          "execution_count": 46
        }
      ]
    },
    {
      "cell_type": "code",
      "metadata": {
        "id": "RELmp564-v4_",
        "colab_type": "code",
        "outputId": "d5269502-08f7-4ca5-ac86-07b53551104d",
        "colab": {
          "base_uri": "https://localhost:8080/",
          "height": 34
        }
      },
      "source": [
        "%%writefile mapper_h8.py\n",
        "#! /usr/bin/env python\n",
        "  \n",
        "import sys\n",
        "#\n",
        "#  >>> Escriba el codigo del mapper a partir de este punto <<<\n",
        "#\n",
        "if __name__ == \"__main__\":\n",
        "\n",
        "    for line in sys.stdin:\n",
        "\n",
        "\n",
        "        word = line.split(\"   \")[0]\n",
        "        value = int(line.split(\"   \")[2])        \n",
        "        sys.stdout.write(\"{}\\t{}\\t1\\n\".format(word,value))"
      ],
      "execution_count": 72,
      "outputs": [
        {
          "output_type": "stream",
          "text": [
            "Overwriting mapper_h8.py\n"
          ],
          "name": "stdout"
        }
      ]
    },
    {
      "cell_type": "code",
      "metadata": {
        "id": "f8vgAot7_We4",
        "colab_type": "code",
        "outputId": "2b92b87a-ff7f-418d-c9db-a4aaffd729fb",
        "colab": {
          "base_uri": "https://localhost:8080/",
          "height": 194
        }
      },
      "source": [
        "!chmod +x mapper_h8.py\n",
        "!cat ./data.csv | ./mapper_h8.py | head"
      ],
      "execution_count": 73,
      "outputs": [
        {
          "output_type": "stream",
          "text": [
            "B\t14\t1\n",
            "E\t12\t1\n",
            "E\t17\t1\n",
            "C\t13\t1\n",
            "E\t16\t1\n",
            "A\t14\t1\n",
            "B\t12\t1\n",
            "E\t13\t1\n",
            "E\t11\t1\n",
            "E\t16\t1\n"
          ],
          "name": "stdout"
        }
      ]
    },
    {
      "cell_type": "code",
      "metadata": {
        "id": "9HSemSDgACa4",
        "colab_type": "code",
        "outputId": "5906ad68-62f0-48b7-f244-b41588595ed3",
        "colab": {
          "base_uri": "https://localhost:8080/",
          "height": 34
        }
      },
      "source": [
        "%%writefile reducer_h8.py\n",
        "#!/usr/bin/env python\n",
        "\n",
        "import sys\n",
        "\n",
        "\n",
        "if __name__ == '__main__':\n",
        "\n",
        "    curkey = None\n",
        "    total = 0\n",
        "    cuenta = 0\n",
        "\n",
        "    \n",
        "    for line in sys.stdin:\n",
        "\n",
        "        key, suma,prom = line.split(\"\\t\")\n",
        "        suma = int(suma)\n",
        "        prom = int(prom)\n",
        "        \n",
        "\n",
        "        if key == curkey:\n",
        "            \n",
        "            total += suma\n",
        "            cuenta += prom\n",
        "        else:\n",
        "           \n",
        "            if curkey is not None:\n",
        "                \n",
        "                sys.stdout.write(\"{}\\t{}\\t{}\\n\".format(curkey, total, total/cuenta))\n",
        "\n",
        "            curkey = key\n",
        "            total = suma\n",
        "            cuenta = prom\n",
        "     \n",
        "    sys.stdout.write(\"{}\\t{}\\t{}\\n\".format(curkey, total, total/cuenta))"
      ],
      "execution_count": 78,
      "outputs": [
        {
          "output_type": "stream",
          "text": [
            "Overwriting reducer_h8.py\n"
          ],
          "name": "stdout"
        }
      ]
    },
    {
      "cell_type": "code",
      "metadata": {
        "id": "_KcCy-k7Pfsr",
        "colab_type": "code",
        "outputId": "104993f8-2f2c-46d3-c36c-d4f9fcdd70d4",
        "colab": {
          "base_uri": "https://localhost:8080/",
          "height": 105
        }
      },
      "source": [
        "!chmod +x reducer_h8.py\n",
        "!cat ./data.csv | ./mapper_h8.py | sort | ./reducer_h8.py "
      ],
      "execution_count": 79,
      "outputs": [
        {
          "output_type": "stream",
          "text": [
            "A\t165\t13.75\n",
            "B\t136\t13.6\n",
            "C\t48\t12.0\n",
            "D\t15\t15.0\n",
            "E\t192\t14.76923076923077\n"
          ],
          "name": "stdout"
        }
      ]
    },
    {
      "cell_type": "code",
      "metadata": {
        "id": "xjMm4MpVoKQW",
        "colab_type": "code",
        "colab": {}
      },
      "source": [
        ""
      ],
      "execution_count": 0,
      "outputs": []
    }
  ]
}
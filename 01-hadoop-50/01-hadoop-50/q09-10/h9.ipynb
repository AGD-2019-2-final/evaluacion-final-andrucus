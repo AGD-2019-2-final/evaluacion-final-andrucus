{
  "nbformat": 4,
  "nbformat_minor": 0,
  "metadata": {
    "colab": {
      "name": "Untitled4.ipynb",
      "provenance": [],
      "collapsed_sections": [],
      "toc_visible": true
    },
    "kernelspec": {
      "name": "python3",
      "display_name": "Python 3"
    }
  },
  "cells": [
    {
      "cell_type": "code",
      "metadata": {
        "id": "Vhbwv0GdiQrD",
        "colab_type": "code",
        "colab": {}
      },
      "source": [
        "import pandas as pd\n",
        "df = pd.read_csv(\n",
        "    \"data.csv\",\n",
        "    sep = '\\t',\n",
        "    thousands = None,\n",
        "    decimal = '.',\n",
        "    encoding='latin-1')\n"
      ],
      "execution_count": 0,
      "outputs": []
    },
    {
      "cell_type": "code",
      "metadata": {
        "id": "cfUUl3w_TGS5",
        "colab_type": "code",
        "outputId": "b8c7c7d7-aa4b-421a-ab2c-fd44f378c669",
        "colab": {
          "base_uri": "https://localhost:8080/",
          "height": 197
        }
      },
      "source": [
        "df.head()"
      ],
      "execution_count": 81,
      "outputs": [
        {
          "output_type": "execute_result",
          "data": {
            "text/html": [
              "<div>\n",
              "<style scoped>\n",
              "    .dataframe tbody tr th:only-of-type {\n",
              "        vertical-align: middle;\n",
              "    }\n",
              "\n",
              "    .dataframe tbody tr th {\n",
              "        vertical-align: top;\n",
              "    }\n",
              "\n",
              "    .dataframe thead th {\n",
              "        text-align: right;\n",
              "    }\n",
              "</style>\n",
              "<table border=\"1\" class=\"dataframe\">\n",
              "  <thead>\n",
              "    <tr style=\"text-align: right;\">\n",
              "      <th></th>\n",
              "      <th>B   1999-08-28   14</th>\n",
              "    </tr>\n",
              "  </thead>\n",
              "  <tbody>\n",
              "    <tr>\n",
              "      <th>0</th>\n",
              "      <td>E   1999-12-06   121</td>\n",
              "    </tr>\n",
              "    <tr>\n",
              "      <th>1</th>\n",
              "      <td>E   1993-07-21   17</td>\n",
              "    </tr>\n",
              "    <tr>\n",
              "      <th>2</th>\n",
              "      <td>C   1991-02-12   2</td>\n",
              "    </tr>\n",
              "    <tr>\n",
              "      <th>3</th>\n",
              "      <td>E   1995-04-25   161</td>\n",
              "    </tr>\n",
              "    <tr>\n",
              "      <th>4</th>\n",
              "      <td>A   1992-08-22   14</td>\n",
              "    </tr>\n",
              "  </tbody>\n",
              "</table>\n",
              "</div>"
            ],
            "text/plain": [
              "    B   1999-08-28   14\n",
              "0  E   1999-12-06   121\n",
              "1   E   1993-07-21   17\n",
              "2    C   1991-02-12   2\n",
              "3  E   1995-04-25   161\n",
              "4   A   1992-08-22   14"
            ]
          },
          "metadata": {
            "tags": []
          },
          "execution_count": 81
        }
      ]
    },
    {
      "cell_type": "code",
      "metadata": {
        "id": "RELmp564-v4_",
        "colab_type": "code",
        "outputId": "ff2a3691-94a0-4958-e8cb-f7186ae07dbd",
        "colab": {
          "base_uri": "https://localhost:8080/",
          "height": 34
        }
      },
      "source": [
        "%%writefile mapper_h9.py\n",
        "#! /usr/bin/env python\n",
        "import sys\n",
        "#\n",
        "#  >>> Escriba el codigo del mapper a partir de este punto <<<\n",
        "#\n",
        "if __name__ == \"__main__\":\n",
        "\n",
        "\n",
        "    for line in sys.stdin:\n",
        "\n",
        "        value = int(line.split(\"   \")[2])\n",
        "        value = \"{:03.0f}\".format(value)\n",
        "        sys.stdout.write(\"{},{}\".format(value,line))"
      ],
      "execution_count": 100,
      "outputs": [
        {
          "output_type": "stream",
          "text": [
            "Overwriting mapper_h9.py\n"
          ],
          "name": "stdout"
        }
      ]
    },
    {
      "cell_type": "code",
      "metadata": {
        "id": "f8vgAot7_We4",
        "colab_type": "code",
        "outputId": "960ee05b-43db-408d-b485-ed07b912524e",
        "colab": {
          "base_uri": "https://localhost:8080/",
          "height": 194
        }
      },
      "source": [
        "!chmod +x mapper_h9.py\n",
        "!cat ./data.csv | ./mapper_h9.py | head"
      ],
      "execution_count": 101,
      "outputs": [
        {
          "output_type": "stream",
          "text": [
            "014,B   1999-08-28   14\n",
            "121,E   1999-12-06   121\n",
            "017,E   1993-07-21   17\n",
            "002,C   1991-02-12   2\n",
            "161,E   1995-04-25   161\n",
            "014,A   1992-08-22   14\n",
            "012,B   1999-06-11   12\n",
            "008,E   1993-01-27   8\n",
            "011,E   1999-09-10   11\n",
            "016,E   1990-05-03   16\n"
          ],
          "name": "stdout"
        }
      ]
    },
    {
      "cell_type": "code",
      "metadata": {
        "id": "9HSemSDgACa4",
        "colab_type": "code",
        "outputId": "13b9f020-4324-4de4-bdfd-a26893dafe30",
        "colab": {
          "base_uri": "https://localhost:8080/",
          "height": 34
        }
      },
      "source": [
        "%%writefile reducer_h9.py\n",
        "#!/usr/bin/env python\n",
        "\n",
        "import sys\n",
        "#\n",
        "#  >>> Escriba el codigo del mapper a partir de este punto <<<\n",
        "#\n",
        "if __name__ == '__main__':\n",
        "\n",
        "    cont = 0\n",
        "    for line in sys.stdin:\n",
        "        _, val = line.split(\",\")\n",
        "        sys.stdout.write(\"{}\".format(val))\n",
        "        cont += 1\n",
        "        if(cont == 5):\n",
        "            break    \n"
      ],
      "execution_count": 104,
      "outputs": [
        {
          "output_type": "stream",
          "text": [
            "Overwriting reducer_h9.py\n"
          ],
          "name": "stdout"
        }
      ]
    },
    {
      "cell_type": "code",
      "metadata": {
        "id": "_KcCy-k7Pfsr",
        "colab_type": "code",
        "outputId": "75209a15-1799-4769-89c6-eda9fcb3f9dd",
        "colab": {
          "base_uri": "https://localhost:8080/",
          "height": 105
        }
      },
      "source": [
        "!chmod +x reducer_h9.py\n",
        "!cat ./data.csv | ./mapper_h9.py | sort | ./reducer_h9.py "
      ],
      "execution_count": 105,
      "outputs": [
        {
          "output_type": "stream",
          "text": [
            "C   1994-07-27   1\n",
            "C   1991-02-12   2\n",
            "A   1990-07-22   4\n",
            "A   1990-09-26   5\n",
            "B   1997-04-09   6\n"
          ],
          "name": "stdout"
        }
      ]
    },
    {
      "cell_type": "code",
      "metadata": {
        "id": "xjMm4MpVoKQW",
        "colab_type": "code",
        "colab": {}
      },
      "source": [
        ""
      ],
      "execution_count": 0,
      "outputs": []
    }
  ]
}
{
  "nbformat": 4,
  "nbformat_minor": 0,
  "metadata": {
    "colab": {
      "name": "Q2_hadoop.ipynb",
      "provenance": []
    },
    "kernelspec": {
      "name": "python3",
      "display_name": "Python 3"
    }
  },
  "cells": [
    {
      "cell_type": "code",
      "metadata": {
        "id": "dZy1mEbDdAJo",
        "colab_type": "code",
        "colab": {}
      },
      "source": [
        "import pandas as pd\n",
        "df = pd.read_csv(\n",
        "    \"credit.csv\",\n",
        "    sep = ',',\n",
        "    thousands = None,\n",
        "    decimal = '.',\n",
        "    encoding='latin-1')"
      ],
      "execution_count": 0,
      "outputs": []
    },
    {
      "cell_type": "code",
      "metadata": {
        "id": "iN5MO0r5dICS",
        "colab_type": "code",
        "colab": {
          "base_uri": "https://localhost:8080/",
          "height": 35
        },
        "outputId": "1228e1dc-9b35-4aa3-9134-7616e821fe7e"
      },
      "source": [
        "%%writefile mapper_q2.py\n",
        "#! /usr/bin/env python\n",
        "import sys\n",
        "#\n",
        "# >>> Escriba el codigo del mapper a partir de este punto <<<\n",
        "#\n",
        "if __name__ == \"__main__\":\n",
        "\tfor line in sys.stdin:\n",
        "\t\tarr = line.split(',')\n",
        "\t\tpour = arr[3]\n",
        "\t\tval = arr[4]\n",
        "\t\tsys.stdout.write(\"{}\\t{}\\n\".format(pour,val))"
      ],
      "execution_count": 5,
      "outputs": [
        {
          "output_type": "stream",
          "text": [
            "Writing mapper_q2.py\n"
          ],
          "name": "stdout"
        }
      ]
    },
    {
      "cell_type": "code",
      "metadata": {
        "id": "4AmhwzCc8JIh",
        "colab_type": "code",
        "colab": {
          "base_uri": "https://localhost:8080/",
          "height": 199
        },
        "outputId": "131db71c-0dc3-49a9-c309-17f7fb040b7f"
      },
      "source": [
        "!chmod +x mapper_q2.py\n",
        "!cat ./credit.csv | ./mapper_q2.py | head"
      ],
      "execution_count": 6,
      "outputs": [
        {
          "output_type": "stream",
          "text": [
            "radio/tv\t1169\n",
            "radio/tv\t5951\n",
            "education\t2096\n",
            "furniture\t7882\n",
            "car (new)\t4870\n",
            "education\t9055\n",
            "furniture\t2835\n",
            "car (used)\t6948\n",
            "radio/tv\t3059\n",
            "car (new)\t5234\n"
          ],
          "name": "stdout"
        }
      ]
    },
    {
      "cell_type": "code",
      "metadata": {
        "id": "hvyxvN1b83HB",
        "colab_type": "code",
        "colab": {
          "base_uri": "https://localhost:8080/",
          "height": 35
        },
        "outputId": "e064794c-6702-46a6-89a8-5900f96aa208"
      },
      "source": [
        "%%writefile reducer_q2.py\n",
        "#!/usr/bin/env python\n",
        "import sys\n",
        "#\n",
        "#  >>> Escriba el codigo del reducer a partir de este punto <<<\n",
        "#\n",
        "if __name__ == '__main__':\n",
        "\n",
        "    curkey = None\n",
        "    total = 0\n",
        "    for line in sys.stdin:\n",
        "\n",
        "        key, val = line.split(\"\\t\")\n",
        "        val = int(val)\n",
        "\n",
        "        if key == curkey:\n",
        "        \tif val > total:\n",
        "        \t\ttotal = val\n",
        "        else:\n",
        "            if curkey is not None:\n",
        "                sys.stdout.write(\"{}\\t{}\\n\".format(curkey, total))\n",
        "\n",
        "            curkey = key\n",
        "            total = val\n",
        "\n",
        "    sys.stdout.write(\"{}\\t{}\\n\".format(curkey, total))"
      ],
      "execution_count": 7,
      "outputs": [
        {
          "output_type": "stream",
          "text": [
            "Writing reducer_q2.py\n"
          ],
          "name": "stdout"
        }
      ]
    },
    {
      "cell_type": "code",
      "metadata": {
        "id": "bd_lYWec97QP",
        "colab_type": "code",
        "colab": {
          "base_uri": "https://localhost:8080/",
          "height": 199
        },
        "outputId": "24e1085c-0e50-4beb-b084-1b4f4b01b3f2"
      },
      "source": [
        "!chmod +x reducer_q2.py\n",
        "!cat ./credit.csv | ./mapper_q2.py | sort | ./reducer_q2.py | head"
      ],
      "execution_count": 10,
      "outputs": [
        {
          "output_type": "stream",
          "text": [
            "business\t15945\n",
            "car (new)\t14896\n",
            "car (used)\t12976\n",
            "domestic appliances\t3990\n",
            "education\t12612\n",
            "furniture\t14179\n",
            "others\t18424\n",
            "radio/tv\t15653\n",
            "repairs\t11998\n",
            "retraining\t3447\n"
          ],
          "name": "stdout"
        }
      ]
    }
  ]
}
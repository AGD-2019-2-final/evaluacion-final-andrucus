{
 "cells": [
  {
   "cell_type": "code",
   "execution_count": 0,
   "metadata": {
    "colab": {},
    "colab_type": "code",
    "id": "Vhbwv0GdiQrD"
   },
   "outputs": [],
   "source": [
    "import pandas as pd\n",
    "df = pd.read_csv(\n",
    "    \"data.csv\",\n",
    "    sep = '\\t',\n",
    "    thousands = None,\n",
    "    decimal = '.',\n",
    "    encoding='latin-1')\n"
   ]
  },
  {
   "cell_type": "code",
   "execution_count": 5,
   "metadata": {
    "colab": {
     "base_uri": "https://localhost:8080/",
     "height": 197
    },
    "colab_type": "code",
    "id": "cfUUl3w_TGS5",
    "outputId": "ebb4113d-6bd0-48e0-98e8-85fae7665c20"
   },
   "outputs": [
    {
     "data": {
      "text/html": [
       "<div>\n",
       "<style scoped>\n",
       "    .dataframe tbody tr th:only-of-type {\n",
       "        vertical-align: middle;\n",
       "    }\n",
       "\n",
       "    .dataframe tbody tr th {\n",
       "        vertical-align: top;\n",
       "    }\n",
       "\n",
       "    .dataframe thead th {\n",
       "        text-align: right;\n",
       "    }\n",
       "</style>\n",
       "<table border=\"1\" class=\"dataframe\">\n",
       "  <thead>\n",
       "    <tr style=\"text-align: right;\">\n",
       "      <th></th>\n",
       "      <th>E   1990-05-03   16</th>\n",
       "      <th>Unnamed: 1</th>\n",
       "    </tr>\n",
       "  </thead>\n",
       "  <tbody>\n",
       "    <tr>\n",
       "      <th>0</th>\n",
       "      <td>A   1992-09-19   9</td>\n",
       "      <td>NaN</td>\n",
       "    </tr>\n",
       "    <tr>\n",
       "      <th>1</th>\n",
       "      <td>A   1990-10-06   10</td>\n",
       "      <td>NaN</td>\n",
       "    </tr>\n",
       "    <tr>\n",
       "      <th>2</th>\n",
       "      <td>E   1994-02-14   10</td>\n",
       "      <td>NaN</td>\n",
       "    </tr>\n",
       "    <tr>\n",
       "      <th>3</th>\n",
       "      <td>E   1999-09-10   11</td>\n",
       "      <td>NaN</td>\n",
       "    </tr>\n",
       "    <tr>\n",
       "      <th>4</th>\n",
       "      <td>A   1992-08-22   16</td>\n",
       "      <td>NaN</td>\n",
       "    </tr>\n",
       "  </tbody>\n",
       "</table>\n",
       "</div>"
      ],
      "text/plain": [
       "   E   1990-05-03   16  Unnamed: 1\n",
       "0   A   1992-09-19   9         NaN\n",
       "1  A   1990-10-06   10         NaN\n",
       "2  E   1994-02-14   10         NaN\n",
       "3  E   1999-09-10   11         NaN\n",
       "4  A   1992-08-22   16         NaN"
      ]
     },
     "execution_count": 5,
     "metadata": {
      "tags": []
     },
     "output_type": "execute_result"
    }
   ],
   "source": [
    "df.head()"
   ]
  },
  {
   "cell_type": "code",
   "execution_count": 40,
   "metadata": {
    "colab": {
     "base_uri": "https://localhost:8080/",
     "height": 34
    },
    "colab_type": "code",
    "id": "RELmp564-v4_",
    "outputId": "0e8c78b1-6c8e-4afc-e64e-58812697789c"
   },
   "outputs": [
    {
     "name": "stdout",
     "output_type": "stream",
     "text": [
      "Overwriting mapper_h7.py\n"
     ]
    }
   ],
   "source": [
    "%%writefile mapper_h7.py\n",
    "#! /usr/bin/env python\n",
    "  \n",
    "import sys\n",
    "#\n",
    "#  >>> Escriba el codigo del mapper a partir de este punto <<<\n",
    "#\n",
    "if __name__ == \"__main__\":\n",
    "\n",
    "    ##\n",
    "    ## itera sobre cada linea de codigo recibida\n",
    "    ## a traves del flujo de entrada\n",
    "    ##\n",
    "    for line in sys.stdin:\n",
    "\n",
    "        ##\n",
    "        ## genera las tuplas palabra \\tabulador 1\n",
    "        ## ya que es un conteo de palabras\n",
    "        ##\n",
    "        word = line.split(\"   \")[0]\n",
    "        value = int(line.split(\"   \")[2])\n",
    "        value = \"{:03.0f}\".format(value)    ## {}  :03 permite que tenga un cero a la izquiera y que que tenga 3 de longitud y el 0f genera tener 0 puntos decimales\n",
    "        sys.stdout.write(\"{},{},{}\".format(word,value,line))"
   ]
  },
  {
   "cell_type": "code",
   "execution_count": 41,
   "metadata": {
    "colab": {
     "base_uri": "https://localhost:8080/",
     "height": 194
    },
    "colab_type": "code",
    "id": "f8vgAot7_We4",
    "outputId": "8309d092-6bc7-4928-8b8a-348e5b8b6d16"
   },
   "outputs": [
    {
     "name": "stdout",
     "output_type": "stream",
     "text": [
      "E,016,E   1990-05-03   16\t\n",
      "A,009,A   1992-09-19   9\t\n",
      "A,010,A   1990-10-06   10\t\n",
      "E,010,E   1994-02-14   10\t\n",
      "E,011,E   1999-09-10   11\t\n",
      "A,016,A   1992-08-22   16\t\n",
      "A,017,A   1993-05-08   17\t\n",
      "A,121,A   1988-04-27   121\t\n",
      "B,001,B   1995-08-23   1\t\n",
      "B,009,B   1991-10-01   9\t\n"
     ]
    }
   ],
   "source": [
    "!chmod +x mapper_h7.py\n",
    "!cat ./data.csv | ./mapper_h7.py | head"
   ]
  },
  {
   "cell_type": "code",
   "execution_count": 42,
   "metadata": {
    "colab": {
     "base_uri": "https://localhost:8080/",
     "height": 34
    },
    "colab_type": "code",
    "id": "9HSemSDgACa4",
    "outputId": "b65b75eb-a2c1-455c-c187-b9de570aeed5"
   },
   "outputs": [
    {
     "name": "stdout",
     "output_type": "stream",
     "text": [
      "Overwriting reducer_h7.py\n"
     ]
    }
   ],
   "source": [
    "%%writefile reducer_h7.py\n",
    "#!/usr/bin/env python\n",
    "\n",
    "import sys\n",
    "#\n",
    "#  >>> Escriba el codigo del mapper a partir de este punto <<<\n",
    "#\n",
    "if __name__ == '__main__':\n",
    "\n",
    "\n",
    "    for line in sys.stdin:\n",
    "        _, _, val = line.split(\",\") #genera como clave la letra y luego el número asignado a la misma , luego asigna el valor a cada uno de los registros originales (ejemplo E   1990-05-03   16)\n",
    "        sys.stdout.write(\"{}\".format(val))  #el reducer recorre uno a uno pero al no haber repetidos no suma nada, solo los ordena primero por la columna 0 y luego por la 1 (E, 016)"
   ]
  },
  {
   "cell_type": "code",
   "execution_count": 44,
   "metadata": {
    "colab": {
     "base_uri": "https://localhost:8080/",
     "height": 727
    },
    "colab_type": "code",
    "id": "_KcCy-k7Pfsr",
    "outputId": "6b025c04-31d8-455f-c694-b114dd0ceab8"
   },
   "outputs": [
    {
     "name": "stdout",
     "output_type": "stream",
     "text": [
      "A   1990-07-22   0\t\n",
      "A   1990-09-26   8\t\n",
      "A   1992-09-19   9\t\n",
      "A   1990-10-06   10\t\n",
      "A   1990-09-05   11\t\n",
      "A   1990-08-31   12\t\n",
      "A   1997-12-15   13\t\n",
      "A   1994-10-25   14\t\n",
      "A   1993-01-11   15\t\n",
      "A   1992-08-22   16\t\n",
      "A   1993-05-08   17\t\n",
      "A   1988-04-27   121\t\n",
      "B   1995-08-23   1\t\n",
      "B   1991-10-01   9\t\n",
      "B   1999-10-21   13\t\n",
      "B   1997-04-09   14\t\n",
      "B   1995-09-06   15\t\n",
      "B   1993-03-02   16\t\n",
      "B   1999-08-28   17\t\n",
      "B   1994-08-30   18\t\n",
      "B   1999-06-11   121\t\n",
      "B   1998-11-22   131\t\n",
      "C   1994-01-25   10\t\n",
      "C   1991-02-12   13\t\n",
      "C   1994-09-09   15\t\n",
      "C   1994-07-27   104\t\n",
      "D   1990-10-10   15\t\n",
      "E   1998-09-14   2\t\n",
      "E   1995-04-25   3\t\n",
      "E   1993-07-21   4\t\n",
      "E   1993-01-27   9\t\n",
      "E   1994-02-14   10\t\n",
      "E   1999-09-10   11\t\n",
      "E   1999-12-06   12\t\n",
      "E   1999-01-14   15\t\n",
      "E   1990-05-03   16\t\n",
      "E   1985-02-12   17\t\n",
      "E   1990-02-09   18\t\n",
      "E   1993-12-27   19\t\n",
      "E   1991-02-18   141\n"
     ]
    }
   ],
   "source": [
    "!chmod +x reducer_h7.py\n",
    "!cat ./data.csv | ./mapper_h7.py | sort | ./reducer_h7.py "
   ]
  },
  {
   "cell_type": "code",
   "execution_count": 0,
   "metadata": {
    "colab": {},
    "colab_type": "code",
    "id": "xjMm4MpVoKQW"
   },
   "outputs": [],
   "source": []
  }
 ],
 "metadata": {
  "colab": {
   "collapsed_sections": [],
   "name": "Untitled4.ipynb",
   "provenance": [],
   "toc_visible": true
  },
  "kernelspec": {
   "display_name": "Python 3",
   "language": "python",
   "name": "python3"
  },
  "language_info": {
   "codemirror_mode": {
    "name": "ipython",
    "version": 3
   },
   "file_extension": ".py",
   "mimetype": "text/x-python",
   "name": "python",
   "nbconvert_exporter": "python",
   "pygments_lexer": "ipython3",
   "version": "3.7.1"
  }
 },
 "nbformat": 4,
 "nbformat_minor": 1
}

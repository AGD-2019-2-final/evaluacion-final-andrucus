{
  "nbformat": 4,
  "nbformat_minor": 0,
  "metadata": {
    "colab": {
      "name": "Untitled4.ipynb",
      "provenance": [],
      "collapsed_sections": []
    },
    "kernelspec": {
      "name": "python3",
      "display_name": "Python 3"
    }
  },
  "cells": [
    {
      "cell_type": "code",
      "metadata": {
        "id": "Vhbwv0GdiQrD",
        "colab_type": "code",
        "colab": {}
      },
      "source": [
        "import pandas as pd\n",
        "df = pd.read_csv(\n",
        "    \"data.csv\",\n",
        "    sep = '\\t',\n",
        "    thousands = None,\n",
        "    decimal = '.',\n",
        "    encoding='latin-1')\n"
      ],
      "execution_count": 0,
      "outputs": []
    },
    {
      "cell_type": "code",
      "metadata": {
        "id": "RELmp564-v4_",
        "colab_type": "code",
        "colab": {
          "base_uri": "https://localhost:8080/",
          "height": 34
        },
        "outputId": "444d92b5-1a79-4c3c-a122-2de3f37a61ae"
      },
      "source": [
        "%%writefile mapper_h05.py\n",
        "#! /usr/bin/env python\n",
        "import sys\n",
        "if __name__ == \"__main__\":\n",
        "\n",
        "    \n",
        "    for line in sys.stdin:\n",
        "        fecha=line.split('-')[1]\n",
        "        \n",
        "        sys.stdout.write(\"{}\\t1\\n\".format(fecha))\n"
      ],
      "execution_count": 3,
      "outputs": [
        {
          "output_type": "stream",
          "text": [
            "Writing mapper_h05.py\n"
          ],
          "name": "stdout"
        }
      ]
    },
    {
      "cell_type": "code",
      "metadata": {
        "id": "f8vgAot7_We4",
        "colab_type": "code",
        "colab": {
          "base_uri": "https://localhost:8080/",
          "height": 194
        },
        "outputId": "3d9bda1e-26f7-483d-e85b-1f72159f866b"
      },
      "source": [
        "!chmod +x mapper_h05.py\n",
        "!cat ./data.csv | ./mapper_h05.py | head"
      ],
      "execution_count": 5,
      "outputs": [
        {
          "output_type": "stream",
          "text": [
            "08\t1\n",
            "12\t1\n",
            "07\t1\n",
            "02\t1\n",
            "04\t1\n",
            "08\t1\n",
            "06\t1\n",
            "01\t1\n",
            "09\t1\n",
            "05\t1\n"
          ],
          "name": "stdout"
        }
      ]
    },
    {
      "cell_type": "code",
      "metadata": {
        "id": "9HSemSDgACa4",
        "colab_type": "code",
        "colab": {
          "base_uri": "https://localhost:8080/",
          "height": 34
        },
        "outputId": "e30294be-60a2-46c9-b04d-6dc773362f5d"
      },
      "source": [
        "%%writefile reducer_h5.py\n",
        "#!/usr/bin/env python\n",
        "\n",
        "import sys\n",
        "\n",
        "\n",
        "if __name__ == '__main__':\n",
        "\n",
        "    curkey = None\n",
        "    total = None\n",
        "\n",
        "    \n",
        "    for line in sys.stdin:\n",
        "\n",
        "        key, val = line.split(\"\\t\")\n",
        "        val = int(val)\n",
        "        \n",
        "        if total is None:\n",
        "          total = val\n",
        "\n",
        "        if key == curkey:\n",
        "            \n",
        "            total += val\n",
        "        else:\n",
        "           \n",
        "            if curkey is not None:\n",
        "                \n",
        "                sys.stdout.write(\"{} {}\\n\".format(curkey, total))\n",
        "\n",
        "            curkey = key\n",
        "            total = val\n",
        "     \n",
        "    sys.stdout.write(\"{} {}\\n\".format(curkey, total))"
      ],
      "execution_count": 6,
      "outputs": [
        {
          "output_type": "stream",
          "text": [
            "Writing reducer_h5.py\n"
          ],
          "name": "stdout"
        }
      ]
    },
    {
      "cell_type": "code",
      "metadata": {
        "id": "_KcCy-k7Pfsr",
        "colab_type": "code",
        "colab": {
          "base_uri": "https://localhost:8080/",
          "height": 230
        },
        "outputId": "e3bc951c-0606-4f92-d136-89648ca6be02"
      },
      "source": [
        "!chmod +x reducer_h5.py\n",
        "!cat ./data.csv | ./mapper_h05.py | sort | ./reducer_h5.py "
      ],
      "execution_count": 10,
      "outputs": [
        {
          "output_type": "stream",
          "text": [
            "01 4\n",
            "02 5\n",
            "03 1\n",
            "04 3\n",
            "05 2\n",
            "06 1\n",
            "07 3\n",
            "08 5\n",
            "09 7\n",
            "10 5\n",
            "11 1\n",
            "12 3\n"
          ],
          "name": "stdout"
        }
      ]
    }
  ]
}